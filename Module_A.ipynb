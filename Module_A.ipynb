{
  "nbformat": 4,
  "nbformat_minor": 0,
  "metadata": {
    "colab": {
      "provenance": [],
      "authorship_tag": "ABX9TyMReo0oXwNL2lL7Fdso868n",
      "include_colab_link": true
    },
    "kernelspec": {
      "name": "python3",
      "display_name": "Python 3"
    },
    "language_info": {
      "name": "python"
    }
  },
  "cells": [
    {
      "cell_type": "markdown",
      "metadata": {
        "id": "view-in-github",
        "colab_type": "text"
      },
      "source": [
        "<a href=\"https://colab.research.google.com/github/akhileshgrandhi/MAT-421/blob/main/Module_A.ipynb\" target=\"_parent\"><img src=\"https://colab.research.google.com/assets/colab-badge.svg\" alt=\"Open In Colab\"/></a>"
      ]
    },
    {
      "cell_type": "markdown",
      "source": [
        "9.1) Base - N and Binary Numbers.\n",
        "\n",
        "We are going to discuss various examples in this section about the conversions of binary and some basic mathematical operations such as addition and subtraction.\n",
        "\n"
      ],
      "metadata": {
        "id": "PewnJGqqV0lk"
      }
    },
    {
      "cell_type": "code",
      "source": [
        "bin(3) # converting 3 into binary notation"
      ],
      "metadata": {
        "colab": {
          "base_uri": "https://localhost:8080/",
          "height": 35
        },
        "id": "UHiBFLTqWTj3",
        "outputId": "194f789b-1fc0-4726-fae4-040ce1043cdf"
      },
      "execution_count": null,
      "outputs": [
        {
          "output_type": "execute_result",
          "data": {
            "text/plain": [
              "'0b11'"
            ],
            "application/vnd.google.colaboratory.intrinsic+json": {
              "type": "string"
            }
          },
          "metadata": {},
          "execution_count": 4
        }
      ]
    },
    {
      "cell_type": "code",
      "source": [
        "bin(30)# converting 30 into binary notation"
      ],
      "metadata": {
        "colab": {
          "base_uri": "https://localhost:8080/",
          "height": 35
        },
        "id": "of_s7bqd-vyT",
        "outputId": "6c09f933-5293-4da3-e3cb-7205e3370ab6"
      },
      "execution_count": 1,
      "outputs": [
        {
          "output_type": "execute_result",
          "data": {
            "text/plain": [
              "'0b11110'"
            ],
            "application/vnd.google.colaboratory.intrinsic+json": {
              "type": "string"
            }
          },
          "metadata": {},
          "execution_count": 1
        }
      ]
    },
    {
      "cell_type": "code",
      "source": [
        "bin(20)\n",
        "bin(25)\n",
        "a = 0b10100 # this is the binary denotion of 20\n",
        "b = 0b11001 # this is the binary denotion of 25\n",
        "c = a + b\n",
        "bin(c) # converting the result into binary"
      ],
      "metadata": {
        "colab": {
          "base_uri": "https://localhost:8080/",
          "height": 35
        },
        "id": "cF0aBU8x_NmS",
        "outputId": "8b4b4114-3104-4526-fd1d-5742f44e006d"
      },
      "execution_count": 3,
      "outputs": [
        {
          "output_type": "execute_result",
          "data": {
            "text/plain": [
              "'0b101101'"
            ],
            "application/vnd.google.colaboratory.intrinsic+json": {
              "type": "string"
            }
          },
          "metadata": {},
          "execution_count": 3
        }
      ]
    },
    {
      "cell_type": "code",
      "source": [
        "bin(13)\n",
        "bin(17)\n",
        "x = 0b1101 # this is the binary denotion of 13\n",
        "y = 0b10001 # this is the binary denotion of 17\n",
        "z = x * y\n",
        "bin(z) # converting the result into binary\n",
        " "
      ],
      "metadata": {
        "colab": {
          "base_uri": "https://localhost:8080/",
          "height": 35
        },
        "id": "HlfwirMqAIgS",
        "outputId": "59b60760-b88d-4d07-f11c-c7c72cb3ea3c"
      },
      "execution_count": 7,
      "outputs": [
        {
          "output_type": "execute_result",
          "data": {
            "text/plain": [
              "'0b11011101'"
            ],
            "application/vnd.google.colaboratory.intrinsic+json": {
              "type": "string"
            }
          },
          "metadata": {},
          "execution_count": 7
        }
      ]
    },
    {
      "cell_type": "markdown",
      "source": [
        "9.2) Floating Point Numbers\n",
        "\n",
        "We are going to discuss some of the examples of floating point numbers.\n"
      ],
      "metadata": {
        "id": "lr4f5W0oWWRz"
      }
    },
    {
      "cell_type": "code",
      "source": [
        "import sys\n",
        "sys.float_info"
      ],
      "metadata": {
        "id": "l50x3bHFWqYg",
        "colab": {
          "base_uri": "https://localhost:8080/"
        },
        "outputId": "e475a108-3a86-4708-eca6-ca8ffe25dada"
      },
      "execution_count": 8,
      "outputs": [
        {
          "output_type": "execute_result",
          "data": {
            "text/plain": [
              "sys.float_info(max=1.7976931348623157e+308, max_exp=1024, max_10_exp=308, min=2.2250738585072014e-308, min_exp=-1021, min_10_exp=-307, dig=15, mant_dig=53, epsilon=2.220446049250313e-16, radix=2, rounds=1)"
            ]
          },
          "metadata": {},
          "execution_count": 8
        }
      ]
    },
    {
      "cell_type": "code",
      "source": [
        "sys.float_info.max\n",
        " "
      ],
      "metadata": {
        "colab": {
          "base_uri": "https://localhost:8080/"
        },
        "id": "aihT_mQNBz_k",
        "outputId": "daad6ff7-862d-42f3-e7c2-4060c7b57760"
      },
      "execution_count": 23,
      "outputs": [
        {
          "output_type": "execute_result",
          "data": {
            "text/plain": [
              "1.7976931348623157e+308"
            ]
          },
          "metadata": {},
          "execution_count": 23
        }
      ]
    },
    {
      "cell_type": "code",
      "source": [
        "sys.float_info.min"
      ],
      "metadata": {
        "colab": {
          "base_uri": "https://localhost:8080/"
        },
        "id": "slCDKfUfB0uJ",
        "outputId": "c7b24c2f-29c4-44f1-ffef-64332cfe9fca"
      },
      "execution_count": 10,
      "outputs": [
        {
          "output_type": "execute_result",
          "data": {
            "text/plain": [
              "2.2250738585072014e-308"
            ]
          },
          "metadata": {},
          "execution_count": 10
        }
      ]
    },
    {
      "cell_type": "code",
      "source": [
        "# this is the example of underflow\n",
        "import sys\n",
        "sys.float_info\n",
        "2**(-1027) \n"
      ],
      "metadata": {
        "colab": {
          "base_uri": "https://localhost:8080/"
        },
        "id": "3-wGnLizCCm8",
        "outputId": "8ec7dd96-a0e9-4e05-e3ef-9c8b093abfa3"
      },
      "execution_count": 20,
      "outputs": [
        {
          "output_type": "execute_result",
          "data": {
            "text/plain": [
              "6.953355807835e-310"
            ]
          },
          "metadata": {},
          "execution_count": 20
        }
      ]
    },
    {
      "cell_type": "code",
      "source": [
        "sys.float_info.max + sys.float_info.max # this is the example of overflow"
      ],
      "metadata": {
        "colab": {
          "base_uri": "https://localhost:8080/"
        },
        "id": "J-oPNZTlCikw",
        "outputId": "09f786bf-37ab-4d2d-868c-4c2cd58b3b80"
      },
      "execution_count": 21,
      "outputs": [
        {
          "output_type": "execute_result",
          "data": {
            "text/plain": [
              "inf"
            ]
          },
          "metadata": {},
          "execution_count": 21
        }
      ]
    },
    {
      "cell_type": "code",
      "source": [
        "import numpy as np\n",
        "np.spacing(1e10) \n",
        "\n",
        "1e10 == (1e10 + np.spacing(1e10)/5)"
      ],
      "metadata": {
        "colab": {
          "base_uri": "https://localhost:8080/"
        },
        "id": "Q-PDg9RKCwjw",
        "outputId": "7ff91adc-803e-4ebd-ff75-1aad9c0176ed"
      },
      "execution_count": 25,
      "outputs": [
        {
          "output_type": "execute_result",
          "data": {
            "text/plain": [
              "True"
            ]
          },
          "metadata": {},
          "execution_count": 25
        }
      ]
    },
    {
      "cell_type": "markdown",
      "source": [
        "9.3) Round Off Errors\n",
        "\n",
        "In this section, we are going to discuss some examples related of Round Off Errors\n"
      ],
      "metadata": {
        "id": "xht1VcL2Wq_1"
      }
    },
    {
      "cell_type": "code",
      "source": [
        "5.97 - 5.70 == 0.27 # round off calculation"
      ],
      "metadata": {
        "id": "jPX1PJkKW_BF",
        "colab": {
          "base_uri": "https://localhost:8080/"
        },
        "outputId": "37c9ae6e-bc9b-408a-e6b1-90c9981548ca"
      },
      "execution_count": 26,
      "outputs": [
        {
          "output_type": "execute_result",
          "data": {
            "text/plain": [
              "False"
            ]
          },
          "metadata": {},
          "execution_count": 26
        }
      ]
    },
    {
      "cell_type": "code",
      "source": [
        "5.97 - 5.70 # this is the answer get when it is computed in python"
      ],
      "metadata": {
        "colab": {
          "base_uri": "https://localhost:8080/"
        },
        "id": "QUITsugbElTJ",
        "outputId": "ce9abfc0-634c-47a8-b9c1-4ac32a90ec89"
      },
      "execution_count": 27,
      "outputs": [
        {
          "output_type": "execute_result",
          "data": {
            "text/plain": [
              "0.2699999999999996"
            ]
          },
          "metadata": {},
          "execution_count": 27
        }
      ]
    },
    {
      "cell_type": "code",
      "source": [
        "0.3 + 0.4 + 0.1 == 0.8"
      ],
      "metadata": {
        "colab": {
          "base_uri": "https://localhost:8080/"
        },
        "id": "TuZoFoy-Eldy",
        "outputId": "94c42298-0344-4fff-af05-707df48269cb"
      },
      "execution_count": 31,
      "outputs": [
        {
          "output_type": "execute_result",
          "data": {
            "text/plain": [
              "False"
            ]
          },
          "metadata": {},
          "execution_count": 31
        }
      ]
    },
    {
      "cell_type": "code",
      "source": [
        " round(5.97 - 5.70, 5) ==  round(0.27, 5)"
      ],
      "metadata": {
        "colab": {
          "base_uri": "https://localhost:8080/"
        },
        "id": "ltdB2KzIElnK",
        "outputId": "73990015-0410-48bd-982c-25950339fbb3"
      },
      "execution_count": 33,
      "outputs": [
        {
          "output_type": "execute_result",
          "data": {
            "text/plain": [
              "True"
            ]
          },
          "metadata": {},
          "execution_count": 33
        }
      ]
    },
    {
      "cell_type": "code",
      "source": [
        "# when the following operation is just operated once\n",
        "\n",
        "2 + 1/9 - 1/9"
      ],
      "metadata": {
        "colab": {
          "base_uri": "https://localhost:8080/"
        },
        "id": "3_35Kp_WElvx",
        "outputId": "a7e7f30d-a3d1-4f90-daeb-8d3f51c9dd4b"
      },
      "execution_count": 69,
      "outputs": [
        {
          "output_type": "execute_result",
          "data": {
            "text/plain": [
              "2.0"
            ]
          },
          "metadata": {},
          "execution_count": 69
        }
      ]
    },
    {
      "cell_type": "code",
      "source": [
        "def add_and_subtract(iterations): # the function has been defined\n",
        "  result = 2\n",
        "\n",
        "  for i in range(iterations): \n",
        "    result += (1/9)\n",
        "  \n",
        "  for i in range(iterations):\n",
        "    result -= (1/9)\n",
        "  \n",
        "  return result\n",
        "\n"
      ],
      "metadata": {
        "id": "4hf2s3ouEl31"
      },
      "execution_count": 70,
      "outputs": []
    },
    {
      "cell_type": "code",
      "source": [
        "add_and_subtract(100)\n",
        " \n",
        " "
      ],
      "metadata": {
        "colab": {
          "base_uri": "https://localhost:8080/"
        },
        "id": "6mj_zz7AEmAa",
        "outputId": "f51b01aa-6b1a-4938-cd53-af5ddfec7659"
      },
      "execution_count": 71,
      "outputs": [
        {
          "output_type": "execute_result",
          "data": {
            "text/plain": [
              "2.000000000000001"
            ]
          },
          "metadata": {},
          "execution_count": 71
        }
      ]
    },
    {
      "cell_type": "code",
      "source": [
        "add_and_subtract(1000000)"
      ],
      "metadata": {
        "colab": {
          "base_uri": "https://localhost:8080/"
        },
        "id": "zV8cA9OoHvjO",
        "outputId": "5f4b7385-d748-4db1-8712-d9fd9b035847"
      },
      "execution_count": 72,
      "outputs": [
        {
          "output_type": "execute_result",
          "data": {
            "text/plain": [
              "2.0000000000085114"
            ]
          },
          "metadata": {},
          "execution_count": 72
        }
      ]
    }
  ]
}