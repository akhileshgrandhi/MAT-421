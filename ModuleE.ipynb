{
  "nbformat": 4,
  "nbformat_minor": 0,
  "metadata": {
    "colab": {
      "provenance": [],
      "authorship_tag": "ABX9TyNL9e4Q6QL7NwRPDJcXrw/s",
      "include_colab_link": true
    },
    "kernelspec": {
      "name": "python3",
      "display_name": "Python 3"
    },
    "language_info": {
      "name": "python"
    }
  },
  "cells": [
    {
      "cell_type": "markdown",
      "metadata": {
        "id": "view-in-github",
        "colab_type": "text"
      },
      "source": [
        "<a href=\"https://colab.research.google.com/github/akhileshgrandhi/MAT-421/blob/main/ModuleE.ipynb\" target=\"_parent\"><img src=\"https://colab.research.google.com/assets/colab-badge.svg\" alt=\"Open In Colab\"/></a>"
      ]
    },
    {
      "cell_type": "markdown",
      "source": [
        "3.2 Continuity and Differentiation"
      ],
      "metadata": {
        "id": "iFvcbJXlWRN0"
      }
    },
    {
      "cell_type": "code",
      "source": [
        "from sympy import limit, oo, Symbol\n",
        "x = Symbol('x')\n",
        "y = 1/(2*x)\n",
        "limit(y, x, oo)"
      ],
      "metadata": {
        "colab": {
          "base_uri": "https://localhost:8080/",
          "height": 37
        },
        "id": "E_EGK2JnWSTW",
        "outputId": "4925e3c5-e7ae-4ef5-d909-b86fa6abf179"
      },
      "execution_count": 3,
      "outputs": [
        {
          "output_type": "execute_result",
          "data": {
            "text/plain": [
              "0"
            ],
            "text/latex": "$\\displaystyle 0$"
          },
          "metadata": {},
          "execution_count": 3
        }
      ]
    },
    {
      "cell_type": "code",
      "source": [
        "from sympy import *\n",
        "import numpy as np\n",
        "x = Symbol('x')\n",
        "y = x**3 + 1\n",
        "yprime = y.diff(x)\n",
        "yprime"
      ],
      "metadata": {
        "colab": {
          "base_uri": "https://localhost:8080/",
          "height": 39
        },
        "id": "_w1latpNYhxn",
        "outputId": "58b54d8a-9415-4e01-9b92-5bff9f79ffe4"
      },
      "execution_count": 4,
      "outputs": [
        {
          "output_type": "execute_result",
          "data": {
            "text/plain": [
              "3*x**2"
            ],
            "text/latex": "$\\displaystyle 3 x^{2}$"
          },
          "metadata": {},
          "execution_count": 4
        }
      ]
    },
    {
      "cell_type": "code",
      "source": [
        "from sympy import symbols, cos, diff\n",
        "a, b, c = symbols('a b c', real=True)\n",
        "f = 5*a*b - a*cos(c) + a**2 + c **8*b\n",
        "print(diff(f, a))\n"
      ],
      "metadata": {
        "colab": {
          "base_uri": "https://localhost:8080/"
        },
        "id": "GW52V64ZYp8x",
        "outputId": "df00c011-befd-44f6-b8a2-564f06b40765"
      },
      "execution_count": 5,
      "outputs": [
        {
          "output_type": "stream",
          "name": "stdout",
          "text": [
            "2*a + 5*b - cos(c)\n"
          ]
        }
      ]
    },
    {
      "cell_type": "code",
      "source": [
        "from pprint import pprint\n",
        "from numpy import array, zeros, diag, diagflat, dot\n",
        "\n",
        "def jacobi(A, b, N=25, x=None):\n",
        "\n",
        "  if x is None:\n",
        "    x=zeros(len(A[0]))\n",
        "  D = diag(A)\n",
        "  R = A-diagflat(D)\n",
        "\n",
        "  for i in range(N):\n",
        "    x = (b-dot(R,x))/ D\n",
        "  return x\n",
        "\n",
        "A = array([[4.0, 2.0], [3.0, 5.0]])\n",
        "b = array([12.0, 15.0])\n",
        "guess = array([1.0, 1.0])\n",
        "\n",
        "sol = jacobi(A, b, N=25, x= guess)\n",
        "  \n",
        "print (\"A:\")\n",
        "pprint(A)\n",
        "print(\"b:\")\n",
        "pprint(b)\n",
        "print(\"x:\")\n",
        "pprint(sol)\n"
      ],
      "metadata": {
        "colab": {
          "base_uri": "https://localhost:8080/"
        },
        "id": "YRyeTxi7Y0OV",
        "outputId": "d5b60230-a9e0-4add-f88a-cea8d8ad9a8b"
      },
      "execution_count": 7,
      "outputs": [
        {
          "output_type": "stream",
          "name": "stdout",
          "text": [
            "A:\n",
            "array([[4., 2.],\n",
            "       [3., 5.]])\n",
            "b:\n",
            "array([12., 15.])\n",
            "x:\n",
            "array([2.14285733, 1.71428608])\n"
          ]
        }
      ]
    },
    {
      "cell_type": "code",
      "source": [
        "!pip install numdifftools\n",
        "import numdifftools as nd\n",
        "\n",
        "def f1(x):\n",
        "  return x**4+2\n",
        "grad = nd.Gradient(f1)([1])\n",
        "print(grad)"
      ],
      "metadata": {
        "colab": {
          "base_uri": "https://localhost:8080/"
        },
        "id": "oMbE-OJnZD1U",
        "outputId": "ed49bba8-541f-4865-f813-6b5f9b1e58ce"
      },
      "execution_count": 8,
      "outputs": [
        {
          "output_type": "stream",
          "name": "stdout",
          "text": [
            "Looking in indexes: https://pypi.org/simple, https://us-python.pkg.dev/colab-wheels/public/simple/\n",
            "Collecting numdifftools\n",
            "  Downloading numdifftools-0.9.41-py2.py3-none-any.whl (100 kB)\n",
            "\u001b[2K     \u001b[90m━━━━━━━━━━━━━━━━━━━━━━━━━━━━━━━━━━━━━━━\u001b[0m \u001b[32m100.2/100.2 KB\u001b[0m \u001b[31m3.4 MB/s\u001b[0m eta \u001b[36m0:00:00\u001b[0m\n",
            "\u001b[?25hRequirement already satisfied: scipy>=0.8 in /usr/local/lib/python3.8/dist-packages (from numdifftools) (1.7.3)\n",
            "Requirement already satisfied: numpy>=1.9 in /usr/local/lib/python3.8/dist-packages (from numdifftools) (1.21.6)\n",
            "Installing collected packages: numdifftools\n",
            "Successfully installed numdifftools-0.9.41\n",
            "3.999999999999999\n"
          ]
        }
      ]
    },
    {
      "cell_type": "markdown",
      "source": [
        "3.3 Optimization"
      ],
      "metadata": {
        "id": "BjHb1_zNWSht"
      }
    },
    {
      "cell_type": "code",
      "source": [
        "import numpy as np\n",
        "import matplotlib.pyplot as plt\n",
        "\n",
        "x=np.linspace(1,8,50)\n",
        "f=np.log(x)\n",
        "plt.plot(x,f,color=(1,0,1))\n",
        "plt.grid()\n",
        "plt.xlabel('x')\n",
        "plt.ylabel('ln(x)')\n",
        "a=2\n",
        "b=7\n",
        "lam = .4\n",
        "c = lam * a + (1-lam)*b\n",
        "fa = np.log(a)\n",
        "fb = np.log(b)\n",
        "fc = np.log(c)\n",
        "fcc = lam *fa+(1-lam)*fb\n",
        "\n",
        "plt.plot([a,a], [0,fa])\n",
        "plt.plot([b,b], [0,fb])\n",
        "plt.plot([c,c], [0,fc])\n",
        "plt.plot([c,c], [0, fcc])\n",
        "plt.plot([a,b], [fa,fb])"
      ],
      "metadata": {
        "colab": {
          "base_uri": "https://localhost:8080/",
          "height": 297
        },
        "id": "X3fmWZ5nWSrk",
        "outputId": "581c6918-a86b-4af6-d54b-3f814dd18c8f"
      },
      "execution_count": 9,
      "outputs": [
        {
          "output_type": "execute_result",
          "data": {
            "text/plain": [
              "[<matplotlib.lines.Line2D at 0x7f52185c8ac0>]"
            ]
          },
          "metadata": {},
          "execution_count": 9
        },
        {
          "output_type": "display_data",
          "data": {
            "text/plain": [
              "<Figure size 432x288 with 1 Axes>"
            ],
            "image/png": "[encoded data removed]"
          },
          "metadata": {
            "needs_background": "light"
          }
        }
      ]
    }
  ]
}