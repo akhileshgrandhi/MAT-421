{
  "nbformat": 4,
  "nbformat_minor": 0,
  "metadata": {
    "colab": {
      "provenance": [],
      "authorship_tag": "ABX9TyMqUDIr6Yk48buKqrbz6o0v",
      "include_colab_link": true
    },
    "kernelspec": {
      "name": "python3",
      "display_name": "Python 3"
    },
    "language_info": {
      "name": "python"
    }
  },
  "cells": [
    {
      "cell_type": "markdown",
      "metadata": {
        "id": "view-in-github",
        "colab_type": "text"
      },
      "source": [
        "<a href=\"https://colab.research.google.com/github/akhileshgrandhi/MAT-421/blob/main/ModuleC.ipynb\" target=\"_parent\"><img src=\"https://colab.research.google.com/assets/colab-badge.svg\" alt=\"Open In Colab\"/></a>"
      ]
    },
    {
      "cell_type": "markdown",
      "source": [
        "19.1 - Root Problem Finding Statement\n",
        "\n",
        "In this module, we are going to discuss an example of RPFS in Python."
      ],
      "metadata": {
        "id": "6bey1A0mHtgO"
      }
    },
    {
      "cell_type": "code",
      "source": [
        "# importing the libraries\n",
        "\n",
        "import numpy as np\n",
        "from scipy import optimize\n",
        "\n",
        "f = lambda x: np.cos(x) - 3\n",
        "r = optimize.fsolve(f, -4)\n",
        "print(\"r = \", r)\n",
        "\n",
        "result = f(r)\n",
        "print(\"result = \", result)"
      ],
      "metadata": {
        "colab": {
          "base_uri": "https://localhost:8080/"
        },
        "id": "0MXSSiYBHvAS",
        "outputId": "48062334-28bb-4ad5-aa7d-dc9a0fdf5f8d"
      },
      "execution_count": 2,
      "outputs": [
        {
          "output_type": "stream",
          "name": "stdout",
          "text": [
            "r =  [-0.00085586]\n",
            "result =  [-2.00000037]\n"
          ]
        }
      ]
    },
    {
      "cell_type": "markdown",
      "source": [
        "19.2 and 19.3 - Tolerance Level and Bisection Method\n",
        "\n",
        "We are going to discuss some examples using Tolerance Level and Bisection Method in Python."
      ],
      "metadata": {
        "id": "RtbBYNt4HvsT"
      }
    },
    {
      "cell_type": "code",
      "source": [
        "# importing the libraries\n",
        "\n",
        "import numpy as np\n",
        "\n",
        "def my_bisection(f, a, b, tol):\n",
        "  if np.sign(f(a)) == np.sign(f(b)):\n",
        "    raise Exception(\n",
        "        \"The scalars a and b are not bounded to a root\")\n",
        "\n",
        "  m = (a + b)/2\n",
        "\n",
        "  if np.abs(f(m)) < tol:\n",
        "    return m\n",
        "  elif np.sign(f(a)) == np.sign(f(m)):\n",
        "    return my_bisection(f, m, b, tol)\n",
        "  elif np.sign(f(b)) == np.sign(f(m)):\n",
        "    return my_bisection(f, a, m, tol)\n",
        "\n"
      ],
      "metadata": {
        "id": "PTwcKO4UHwKx"
      },
      "execution_count": 3,
      "outputs": []
    },
    {
      "cell_type": "code",
      "source": [
        "f = lambda x: x**2 - 5\n",
        "r1 = my_bisection(f, 0, 5, 0.1)\n",
        "print(\"r1 =\", r1)\n",
        "r01 = my_bisection(f, 0, 5, 0.01)\n",
        "print(\"r01 =\", r01)\n",
        "\n",
        "print(\"f(r1) =\", f(r1))\n",
        "print(\"f(r01) =\", f(r01))"
      ],
      "metadata": {
        "colab": {
          "base_uri": "https://localhost:8080/"
        },
        "id": "uW2u0VqKLwwE",
        "outputId": "d151c09a-f3b4-4a8f-fca1-3c027a66776a"
      },
      "execution_count": 7,
      "outputs": [
        {
          "output_type": "stream",
          "name": "stdout",
          "text": [
            "r1 = 2.2265625\n",
            "r01 = 2.236328125\n",
            "f(r1) = -0.04241943359375\n",
            "f(r01) = 0.001163482666015625\n"
          ]
        }
      ]
    },
    {
      "cell_type": "markdown",
      "source": [
        "19.4 - Newton Raphson Method\n",
        "\n",
        "We are going to discuss an example using Newton Raphson Method in Python."
      ],
      "metadata": {
        "id": "fqWR2Hd1HxXH"
      }
    },
    {
      "cell_type": "code",
      "source": [
        "f = lambda x: x**2 - 5\n",
        "f_prime = lambda x: 2*x\n",
        "def my_newton(f, df, x0, tol):\n",
        "  if abs(f(x0)) < tol:\n",
        "    return x0\n",
        "  else:\n",
        "    return my_newton(f, df, x0 - f(x0)/df(x0), tol)"
      ],
      "metadata": {
        "id": "yl--BINmHx6x"
      },
      "execution_count": 38,
      "outputs": []
    },
    {
      "cell_type": "code",
      "source": [
        "estimate = my_newton(f, f_prime, 2.3, 1e-6)\n",
        "print(\"estimate =\", estimate)\n",
        "print(\"sqrt(5)\", np.sqrt(5))"
      ],
      "metadata": {
        "colab": {
          "base_uri": "https://localhost:8080/"
        },
        "id": "KSG_6b63MgD7",
        "outputId": "8b133a3a-59e7-4600-c1d7-3b7e50c18ef3"
      },
      "execution_count": 39,
      "outputs": [
        {
          "output_type": "stream",
          "name": "stdout",
          "text": [
            "estimate = 2.2360681539696623\n",
            "sqrt(5) 2.23606797749979\n"
          ]
        }
      ]
    },
    {
      "cell_type": "markdown",
      "source": [
        "19.5 - Root Finding in Python\n",
        "\n",
        "In this module, we are going to discuss an example using Root finding in Python."
      ],
      "metadata": {
        "id": "QirEq9RlHyK5"
      }
    },
    {
      "cell_type": "code",
      "source": [
        "from scipy.optimize import fsolve\n",
        "f = lambda x : x**2-6*x-7\n",
        "fsolve(f, [0,8])"
      ],
      "metadata": {
        "colab": {
          "base_uri": "https://localhost:8080/"
        },
        "id": "EPsEX38IHyaR",
        "outputId": "2bba63e0-8175-433e-e0c4-14ff46e09c11"
      },
      "execution_count": 9,
      "outputs": [
        {
          "output_type": "execute_result",
          "data": {
            "text/plain": [
              "array([-1.,  7.])"
            ]
          },
          "metadata": {},
          "execution_count": 9
        }
      ]
    }
  ]
}